{
 "cells": [
  {
   "cell_type": "code",
   "execution_count": 1,
   "source": [
    "import hypergraph as hg\r\n",
    "from hypergraph import Hypergraph, ObjectHypergraph, HypergraphDict\r\n",
    "import random\r\n",
    "import time\r\n",
    "import networkx as nx\r\n",
    "import cProfile\r\n",
    "import matplotlib\r\n",
    "import pandas as pd\r\n",
    "import os"
   ],
   "outputs": [],
   "metadata": {}
  },
  {
   "cell_type": "code",
   "execution_count": 5,
   "source": [
    "n = 1000\r\n",
    "m = 1000\r\n",
    "\r\n",
    "\r\n",
    "# h = {i : random.sample(range(n), random.choice(range(2,25))) for i in range(m)}\r\n",
    "h = [random.sample(range(n), random.choice(range(2,25))) for i in range(m)]"
   ],
   "outputs": [],
   "metadata": {}
  },
  {
   "cell_type": "code",
   "execution_count": 3,
   "source": [
    "fname = \"disGene.txt\"\r\n",
    "df = pd.read_csv(fname, delimiter=\" \", header=None)\r\n",
    "H = hg.Hypergraph(df)\r\n",
    "# H.nodes()"
   ],
   "outputs": [],
   "metadata": {}
  },
  {
   "cell_type": "code",
   "execution_count": 4,
   "source": [
    "hg.to_hypergraph_json(H, \"test.json\")"
   ],
   "outputs": [],
   "metadata": {}
  },
  {
   "cell_type": "code",
   "execution_count": 6,
   "source": [
    "start = time.time()\r\n",
    "H1 = Hypergraph(h)\r\n",
    "print(time.time() - start)"
   ],
   "outputs": [
    {
     "output_type": "stream",
     "name": "stdout",
     "text": [
      "0.003990650177001953\n"
     ]
    }
   ],
   "metadata": {
    "scrolled": true
   }
  },
  {
   "cell_type": "code",
   "execution_count": 7,
   "source": [
    "hg.to_hypergraph_json(H1, \"test.json\")"
   ],
   "outputs": [],
   "metadata": {}
  },
  {
   "cell_type": "code",
   "execution_count": null,
   "source": [
    "start = time.time()\r\n",
    "I = hg.incidence_matrix(H1)\r\n",
    "print(time.time() - start)\r\n",
    "I"
   ],
   "outputs": [],
   "metadata": {}
  },
  {
   "cell_type": "code",
   "execution_count": null,
   "source": [
    "start = time.time()\r\n",
    "W = hg.clique_motif_matrix(H1, sparse=False)\r\n",
    "print(time.time() - start)\r\n",
    "# W.todense()"
   ],
   "outputs": [],
   "metadata": {}
  },
  {
   "cell_type": "code",
   "execution_count": null,
   "source": [
    "import matplotlib.pyplot as plt\r\n",
    "import numpy as np\r\n",
    "plt.figure(figsize=(8,8))\r\n",
    "plt.imshow(W)\r\n",
    "plt.show()"
   ],
   "outputs": [],
   "metadata": {}
  },
  {
   "cell_type": "code",
   "execution_count": null,
   "source": [],
   "outputs": [],
   "metadata": {}
  }
 ],
 "metadata": {
  "interpreter": {
   "hash": "e8c90be8a507c947d600755d98ec41f3a8064ae1d46b0505dd1a3ad2a7800759"
  },
  "kernelspec": {
   "name": "python3",
   "display_name": "Python 3.9.7 64-bit (conda)"
  },
  "language_info": {
   "name": "python",
   "version": "3.9.7",
   "mimetype": "text/x-python",
   "codemirror_mode": {
    "name": "ipython",
    "version": 3
   },
   "pygments_lexer": "ipython3",
   "nbconvert_exporter": "python",
   "file_extension": ".py"
  }
 },
 "nbformat": 4,
 "nbformat_minor": 2
}