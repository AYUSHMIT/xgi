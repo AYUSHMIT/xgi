{
 "cells": [
  {
   "cell_type": "markdown",
   "metadata": {},
   "source": [
    "# Tutorial 1 - Loading hypergraphs and basic functionality"
   ]
  },
  {
   "cell_type": "markdown",
   "metadata": {},
   "source": [
    "This tutorial will give a brief introduction to using the library to construct hypergraphs and perform basic operations on them."
   ]
  },
  {
   "cell_type": "code",
   "execution_count": null,
   "metadata": {},
   "outputs": [],
   "source": [
    "import hypergraph as hg\n",
    "import random\n",
    "import pandas as pd\n",
    "import numpy as np"
   ]
  },
  {
   "cell_type": "markdown",
   "metadata": {},
   "source": [
    "## Loading hypergraphs from different formats\n",
    "\n",
    "We handle loading hypergraphs in many different formats, but the hypergraph constructor takes five main data formats:\n",
    "* A Hypergraph object\n",
    "* A hyperedge list\n",
    "* A hyperedge dictionary\n",
    "* A 2-column pandas dataframe specifying (node, edge) bipartite edges\n",
    "* An incidence matrix (A Numpy or Scipy matrix)"
   ]
  },
  {
   "cell_type": "code",
   "execution_count": null,
   "metadata": {},
   "outputs": [],
   "source": [
    "n = 1000\n",
    "m = 1000\n",
    "\n",
    "min_edge_size = 2\n",
    "max_edge_size = 25\n",
    "\n",
    "# hyperedge list\n",
    "hyperedge_list = [random.sample(range(n), random.choice(range(min_edge_size,max_edge_size+1))) for i in range(m)]\n",
    "\n",
    "# hyperedge dict\n",
    "hyperedge_dict = {i : random.sample(range(n), random.choice(range(min_edge_size,max_edge_size+1))) for i in range(m)}\n",
    "\n",
    "# pandas dataframe\n",
    "fname = \"../data/disGene.txt\"\n",
    "df = pd.read_csv(fname, delimiter=\" \", header=None)\n",
    "\n",
    "# incidence matrix\n",
    "incidence_matrix = np.random.randint(0, high=2, size=(n, m), dtype=int)"
   ]
  },
  {
   "cell_type": "markdown",
   "metadata": {},
   "source": [
    "### Loading a hyperedge list\n",
    "\n",
    "When a user gives a hyperedge list, the system automatically creates system edge IDs."
   ]
  },
  {
   "cell_type": "code",
   "execution_count": null,
   "metadata": {},
   "outputs": [],
   "source": [
    "H = hg.Hypergraph(hyperedge_list)\n",
    "print(f\"The hypergraph has {H.number_of_nodes()} nodes and {H.number_of_edges()} edges\")"
   ]
  },
  {
   "cell_type": "markdown",
   "metadata": {},
   "source": [
    "### Loading a hyperedge dictionary\n",
    "\n",
    "When a user gives a hyperedge dictionary, the system uses the edge IDs specified in the dictionary."
   ]
  },
  {
   "cell_type": "code",
   "execution_count": null,
   "metadata": {},
   "outputs": [],
   "source": [
    "H = hg.Hypergraph(hyperedge_dict)\n",
    "print(f\"The hypergraph has {H.number_of_nodes()} nodes and {H.number_of_edges()} edges\")"
   ]
  },
  {
   "cell_type": "markdown",
   "metadata": {},
   "source": [
    "### Loading an incidence matrix\n",
    "\n",
    "When a user gives an incidence matrix, the system transforms the non-zero entries into lists of rows and columns specifying a bipartite edge list."
   ]
  },
  {
   "cell_type": "code",
   "execution_count": null,
   "metadata": {},
   "outputs": [],
   "source": [
    "H = hg.Hypergraph(incidence_matrix)\n",
    "print(f\"The hypergraph has {H.number_of_nodes()} nodes and {H.number_of_edges()} edges\")"
   ]
  },
  {
   "cell_type": "markdown",
   "metadata": {},
   "source": [
    "### Loading a Pandas dataframe\n",
    "When a user gives a Pandas dataframe, the system automatically imports the first two columns as lists of node and edge indices specifying a bipartite edge list."
   ]
  },
  {
   "cell_type": "code",
   "execution_count": null,
   "metadata": {},
   "outputs": [],
   "source": [
    "H = hg.Hypergraph(df)\n",
    "print(f\"The hypergraph has {H.number_of_nodes()} nodes and {H.number_of_edges()} edges\")"
   ]
  },
  {
   "cell_type": "markdown",
   "metadata": {},
   "source": [
    "## Simple functions\n",
    "\n",
    "The Hypergraph class can do simple things like\n",
    "* output an incidence matrix\n",
    "* output the adjacency matrix for s-connectedness\n",
    "* output the dual of the hypergraph\n",
    "* find if the hypergraph is connected"
   ]
  },
  {
   "cell_type": "code",
   "execution_count": null,
   "metadata": {},
   "outputs": [],
   "source": [
    "I = hg.incidence_matrix(H, sparse=True)"
   ]
  },
  {
   "cell_type": "code",
   "execution_count": null,
   "metadata": {},
   "outputs": [],
   "source": [
    "A = hg.adjacency_matrix(H)"
   ]
  },
  {
   "cell_type": "code",
   "execution_count": null,
   "metadata": {},
   "outputs": [],
   "source": [
    "W = hg.clique_motif_matrix(H)"
   ]
  },
  {
   "cell_type": "code",
   "execution_count": null,
   "metadata": {},
   "outputs": [],
   "source": [
    "D = H.dual()"
   ]
  },
  {
   "cell_type": "code",
   "execution_count": null,
   "metadata": {},
   "outputs": [],
   "source": [
    "n = 1000\n",
    "m = 100\n",
    "\n",
    "min_edge_size = 2\n",
    "max_edge_size = 10\n",
    "\n",
    "# hyperedge list\n",
    "hyperedge_list = [random.sample(range(n), random.choice(range(min_edge_size,max_edge_size+1))) for i in range(m)]\n",
    "H = hg.Hypergraph(hyperedge_list)"
   ]
  },
  {
   "cell_type": "code",
   "execution_count": null,
   "metadata": {},
   "outputs": [],
   "source": [
    "is_connected = hg.is_connected(H)\n",
    "if is_connected:\n",
    "    print(\"H is connected\")\n",
    "else:\n",
    "    print(\"H is not connected\")\n",
    "\n",
    "print(\"The sizes of the connected components are:\")\n",
    "print([len(component) for component in hg.connected_components(H)])\n",
    "\n",
    "node = 0\n",
    "print(f\"The size of the component containing node {node} is {len(hg.node_connected_component(H, node))}\")"
   ]
  },
  {
   "cell_type": "code",
   "execution_count": null,
   "metadata": {},
   "outputs": [],
   "source": [
    "node_subhypergraph = H.subhypergraph(list(range(100)))\n",
    "edge_subhypergraph = H.edge_subhypergraph(list(range(100)))\n",
    "arbitrary_subhypergraph = H.arbitrary_subhypergraph(list(range(100)),list(range(100)))"
   ]
  },
  {
   "cell_type": "markdown",
   "metadata": {},
   "source": [
    "## Converting to other formats\n",
    "\n",
    "Functionality to output a hyperedge list or hyperedge dict"
   ]
  },
  {
   "cell_type": "code",
   "execution_count": null,
   "metadata": {},
   "outputs": [],
   "source": [
    "h_list = hg.to_hyperedge_list(H)\n",
    "h_dict = hg.to_hyperedge_dict(H)"
   ]
  }
 ],
 "metadata": {
  "interpreter": {
   "hash": "e8c90be8a507c947d600755d98ec41f3a8064ae1d46b0505dd1a3ad2a7800759"
  },
  "kernelspec": {
   "display_name": "Python 3.9.7 64-bit (conda)",
   "name": "python3"
  },
  "language_info": {
   "codemirror_mode": {
    "name": "ipython",
    "version": 3
   },
   "file_extension": ".py",
   "mimetype": "text/x-python",
   "name": "python",
   "nbconvert_exporter": "python",
   "pygments_lexer": "ipython3",
   "version": "3.9.7"
  }
 },
 "nbformat": 4,
 "nbformat_minor": 2
}
