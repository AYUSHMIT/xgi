{
 "cells": [
  {
   "cell_type": "markdown",
   "source": [
    "# Tutorial 1 - Loading hypergraphs and basic functionality"
   ],
   "metadata": {}
  },
  {
   "cell_type": "code",
   "execution_count": null,
   "source": [
    "import hypergraph as hg\r\n",
    "from hypergraph import Hypergraph\r\n",
    "import random\r\n",
    "import pandas as pd\r\n",
    "import numpy as np"
   ],
   "outputs": [],
   "metadata": {}
  },
  {
   "cell_type": "markdown",
   "source": [
    "## Loading hypergraphs from different formats\r\n",
    "\r\n",
    "We handle loading hypergraphs in many different formats, but the hypergraph constructor takes five main data formats:\r\n",
    "* A Hypergraph object\r\n",
    "* A hyperedge list\r\n",
    "* A hyperedge dictionary\r\n",
    "* A 2-column pandas dataframe specifying (node, edge) bipartite edges\r\n",
    "* An incidence matrix (A Numpy or Scipy matrix)"
   ],
   "metadata": {}
  },
  {
   "cell_type": "code",
   "execution_count": null,
   "source": [
    "n = 1000\r\n",
    "m = 1000\r\n",
    "\r\n",
    "min_edge_size = 2\r\n",
    "max_edge_size = 25\r\n",
    "\r\n",
    "# hyperedge list\r\n",
    "hyperedge_list = [random.sample(range(n), random.choice(range(min_edge_size,max_edge_size+1))) for i in range(m)]\r\n",
    "\r\n",
    "# hyperedge dict\r\n",
    "hyperedge_dict = {i : random.sample(range(n), random.choice(range(min_edge_size,max_edge_size+1))) for i in range(m)}\r\n",
    "\r\n",
    "# pandas dataframe\r\n",
    "fname = \"../data/disGene.txt\"\r\n",
    "df = pd.read_csv(fname, delimiter=\" \", header=None)\r\n",
    "\r\n",
    "# incidence matrix\r\n",
    "incidence_matrix = np.random.randint(0, high=2, size=(n, m), dtype=int)"
   ],
   "outputs": [],
   "metadata": {}
  },
  {
   "cell_type": "markdown",
   "source": [
    "### Loading a hyperedge list\r\n",
    "\r\n",
    "When a user gives a hyperedge list, the system automatically creates system edge IDs."
   ],
   "metadata": {}
  },
  {
   "cell_type": "code",
   "execution_count": null,
   "source": [
    "H = hg.Hypergraph(hyperedge_list)\r\n",
    "print(f\"The hypergraph has {H.number_of_nodes()} nodes and {H.number_of_edges()} edges\")"
   ],
   "outputs": [],
   "metadata": {}
  },
  {
   "cell_type": "markdown",
   "source": [
    "### Loading a hyperedge dictionary\r\n",
    "\r\n",
    "When a user gives a hyperedge dictionary, the system uses the edge IDs specified in the dictionary."
   ],
   "metadata": {}
  },
  {
   "cell_type": "code",
   "execution_count": null,
   "source": [
    "H = hg.Hypergraph(hyperedge_dict)\r\n",
    "print(f\"The hypergraph has {H.number_of_nodes()} nodes and {H.number_of_edges()} edges\")"
   ],
   "outputs": [],
   "metadata": {}
  },
  {
   "cell_type": "markdown",
   "source": [
    "### Loading an incidence matrix\r\n",
    "\r\n",
    "When a user gives an incidence matrix, the system transforms the non-zero entries into lists of rows and columns specifying a bipartite edge list."
   ],
   "metadata": {}
  },
  {
   "cell_type": "code",
   "execution_count": null,
   "source": [
    "H = hg.Hypergraph(incidence_matrix)\r\n",
    "print(f\"The hypergraph has {H.number_of_nodes()} nodes and {H.number_of_edges()} edges\")"
   ],
   "outputs": [],
   "metadata": {}
  },
  {
   "cell_type": "markdown",
   "source": [
    "### Loading a Pandas dataframe\r\n",
    "When a user gives a Pandas dataframe, the system automatically imports the first two columns as lists of node and edge indices specifying a bipartite edge list."
   ],
   "metadata": {}
  },
  {
   "cell_type": "code",
   "execution_count": null,
   "source": [
    "H = hg.Hypergraph(df)\r\n",
    "print(f\"The hypergraph has {H.number_of_nodes()} nodes and {H.number_of_edges()} edges\")"
   ],
   "outputs": [],
   "metadata": {}
  },
  {
   "cell_type": "markdown",
   "source": [
    "## Simple functions\r\n",
    "\r\n",
    "The Hypergraph class can do simple things like\r\n",
    "* output an incidence matrix\r\n",
    "* output the adjacency matrix for s-connectedness\r\n",
    "* output the dual of the hypergraph\r\n",
    "* find if the hypergraph is connected"
   ],
   "metadata": {}
  },
  {
   "cell_type": "code",
   "execution_count": null,
   "source": [
    "I = hg.incidence_matrix(H)"
   ],
   "outputs": [],
   "metadata": {}
  },
  {
   "cell_type": "code",
   "execution_count": null,
   "source": [
    "W = hg.clique_motif_matrix(H, sparse=True)"
   ],
   "outputs": [],
   "metadata": {}
  },
  {
   "cell_type": "code",
   "execution_count": null,
   "source": [
    "D = H.dual()"
   ],
   "outputs": [],
   "metadata": {}
  },
  {
   "cell_type": "code",
   "execution_count": null,
   "source": [
    "n = 1000\r\n",
    "m = 100\r\n",
    "\r\n",
    "min_edge_size = 2\r\n",
    "max_edge_size = 10\r\n",
    "\r\n",
    "# hyperedge list\r\n",
    "hyperedge_list = [random.sample(range(n), random.choice(range(min_edge_size,max_edge_size+1))) for i in range(m)]\r\n",
    "H = hg.Hypergraph(hyperedge_list)"
   ],
   "outputs": [],
   "metadata": {}
  },
  {
   "cell_type": "code",
   "execution_count": null,
   "source": [
    "is_connected = hg.is_connected(H)\r\n",
    "if is_connected:\r\n",
    "    print(\"H is connected\")\r\n",
    "else:\r\n",
    "    print(\"H is not connected\")\r\n",
    "\r\n",
    "print(\"The sizes of the connected components are:\")\r\n",
    "print([len(component) for component in hg.connected_components(H)])\r\n",
    "\r\n",
    "node = 0\r\n",
    "print(f\"The size of the component containing node {node} is {len(hg.node_connected_component(H, node))}\")"
   ],
   "outputs": [],
   "metadata": {}
  },
  {
   "cell_type": "markdown",
   "source": [
    "## Converting to other formats\r\n",
    "\r\n",
    "Functionality to output a hyperedge list or hyperedge dict"
   ],
   "metadata": {}
  },
  {
   "cell_type": "code",
   "execution_count": null,
   "source": [
    "h_list = hg.to_hyperedge_list(H)\r\n",
    "\r\n",
    "h_dict = hg.to_hyperedge_dict(H)"
   ],
   "outputs": [],
   "metadata": {}
  },
  {
   "cell_type": "markdown",
   "source": [
    "## Importing and exporting hypergraph data"
   ],
   "metadata": {}
  },
  {
   "cell_type": "code",
   "execution_count": null,
   "source": [
    "hg.write_hypergraph_json(H,\"test.json\")"
   ],
   "outputs": [],
   "metadata": {}
  },
  {
   "cell_type": "code",
   "execution_count": null,
   "source": [
    "H = hg.read_hypergraph_json(\"test.json\")"
   ],
   "outputs": [],
   "metadata": {}
  },
  {
   "cell_type": "code",
   "execution_count": null,
   "source": [
    "for edge in H.edges:\r\n",
    "    H._edge_attr[edge][\"weight\"] = random.random()"
   ],
   "outputs": [],
   "metadata": {}
  },
  {
   "cell_type": "code",
   "execution_count": null,
   "source": [
    "hg.write_edgelist(H, \"test.csv\", delimiter=\",\")"
   ],
   "outputs": [],
   "metadata": {}
  },
  {
   "cell_type": "code",
   "execution_count": null,
   "source": [
    "H.node_degree(weight=\"weight\");"
   ],
   "outputs": [],
   "metadata": {}
  },
  {
   "cell_type": "code",
   "execution_count": null,
   "source": [
    "\r\n",
    "import ast\r\n",
    ">>> ast.literal_eval(\"{'muffin' : 'lolz', 'foo' : 'kitty'}\")\r\n",
    "{'muffin': 'lolz', 'foo': 'kitty'}\r\n",
    "delimiter = \",\"\r\n",
    "e = *[1,2,3], {\"weight\" : 2.5}\r\n",
    "line = delimiter.join(map(str, e))\r\n",
    "\r\n",
    "s = line.strip().split(delimiter)\r\n",
    "edge = s[:-1]\r\n",
    "d = s[-1]\r\n",
    "print(type(edge))\r\n",
    "print(type(d))"
   ],
   "outputs": [],
   "metadata": {}
  },
  {
   "cell_type": "code",
   "execution_count": null,
   "source": [
    "delimiter"
   ],
   "outputs": [],
   "metadata": {}
  },
  {
   "cell_type": "code",
   "execution_count": null,
   "source": [],
   "outputs": [],
   "metadata": {}
  }
 ],
 "metadata": {
  "interpreter": {
   "hash": "e8c90be8a507c947d600755d98ec41f3a8064ae1d46b0505dd1a3ad2a7800759"
  },
  "kernelspec": {
   "name": "python3",
   "display_name": "Python 3.9.7 64-bit (conda)"
  },
  "language_info": {
   "name": "python",
   "version": "3.9.7",
   "mimetype": "text/x-python",
   "codemirror_mode": {
    "name": "ipython",
    "version": 3
   },
   "pygments_lexer": "ipython3",
   "nbconvert_exporter": "python",
   "file_extension": ".py"
  }
 },
 "nbformat": 4,
 "nbformat_minor": 2
}