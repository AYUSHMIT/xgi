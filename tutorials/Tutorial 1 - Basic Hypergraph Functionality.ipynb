{
 "cells": [
  {
   "cell_type": "code",
   "execution_count": null,
   "source": [
    "import hypergraph as hg\r\n",
    "from hypergraph import Hypergraph\r\n",
    "import random\r\n",
    "import pandas as pd\r\n",
    "import numpy as np"
   ],
   "outputs": [],
   "metadata": {}
  },
  {
   "cell_type": "code",
   "execution_count": null,
   "source": [
    "n = 100\r\n",
    "m = 1000\r\n",
    "\r\n",
    "min_edge_size = 2\r\n",
    "max_edge_size = 25\r\n",
    "\r\n",
    "# hyperedge list\r\n",
    "hyperedge_list = [random.sample(range(n), random.choice(range(min_edge_size,max_edge_size+1))) for i in range(m)]\r\n",
    "\r\n",
    "# hyperedge dict\r\n",
    "hyperedge_dict = {i : random.sample(range(n), random.choice(range(min_edge_size,max_edge_size+1))) for i in range(m)}\r\n",
    "\r\n",
    "# pandas dataframe\r\n",
    "fname = \"../data/disGene.txt\"\r\n",
    "df = pd.read_csv(fname, delimiter=\" \", header=None)\r\n",
    "\r\n",
    "# incidence matrix\r\n",
    "incidence_matrix = np.random.randint(0, high=2, size=(n, m), dtype=int)\r\n"
   ],
   "outputs": [],
   "metadata": {}
  },
  {
   "cell_type": "code",
   "execution_count": null,
   "source": [
    "H = hg.Hypergraph(hyperedge_list)\r\n",
    "print(f\"The hypergraph has {H.number_of_nodes()} nodes and {H.number_of_edges()} edges\")"
   ],
   "outputs": [],
   "metadata": {}
  },
  {
   "cell_type": "code",
   "execution_count": null,
   "source": [
    "H = hg.Hypergraph(hyperedge_dict)\r\n",
    "print(f\"The hypergraph has {H.number_of_nodes()} nodes and {H.number_of_edges()} edges\")"
   ],
   "outputs": [],
   "metadata": {}
  },
  {
   "cell_type": "code",
   "execution_count": null,
   "source": [
    "H = hg.Hypergraph(incidence_matrix)\r\n",
    "print(f\"The hypergraph has {H.number_of_nodes()} nodes and {H.number_of_edges()} edges\")"
   ],
   "outputs": [],
   "metadata": {}
  },
  {
   "cell_type": "code",
   "execution_count": null,
   "source": [
    "H = hg.Hypergraph(df)\r\n",
    "print(f\"The hypergraph has {H.number_of_nodes()} nodes and {H.number_of_edges()} edges\")"
   ],
   "outputs": [],
   "metadata": {}
  },
  {
   "cell_type": "code",
   "execution_count": null,
   "source": [
    "I = hg.incidence_matrix(H)"
   ],
   "outputs": [],
   "metadata": {}
  },
  {
   "cell_type": "code",
   "execution_count": null,
   "source": [
    "W = hg.clique_motif_matrix(H, sparse=True)"
   ],
   "outputs": [],
   "metadata": {}
  },
  {
   "cell_type": "code",
   "execution_count": null,
   "source": [
    "hg.to_hypergraph_json(H, \"test.json\")"
   ],
   "outputs": [],
   "metadata": {}
  }
 ],
 "metadata": {
  "interpreter": {
   "hash": "e8c90be8a507c947d600755d98ec41f3a8064ae1d46b0505dd1a3ad2a7800759"
  },
  "kernelspec": {
   "name": "python3",
   "display_name": "Python 3.9.7 64-bit (conda)"
  },
  "language_info": {
   "name": "python",
   "version": "3.9.7",
   "mimetype": "text/x-python",
   "codemirror_mode": {
    "name": "ipython",
    "version": 3
   },
   "pygments_lexer": "ipython3",
   "nbconvert_exporter": "python",
   "file_extension": ".py"
  }
 },
 "nbformat": 4,
 "nbformat_minor": 2
}