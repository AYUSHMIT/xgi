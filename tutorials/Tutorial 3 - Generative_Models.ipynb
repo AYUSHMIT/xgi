{
 "cells": [
  {
   "cell_type": "code",
   "execution_count": 20,
   "metadata": {},
   "outputs": [],
   "source": [
    "import hypergraph as hg\n",
    "import numpy as np\n",
    "import random"
   ]
  },
  {
   "cell_type": "code",
   "execution_count": 21,
   "metadata": {},
   "outputs": [
    {
     "name": "stderr",
     "output_type": "stream",
     "text": [
      "c:\\users\\nicho\\documents\\github\\hypergraph\\hypergraph\\generators\\uniform.py:42: UserWarning: This degree sequence is not realizable. Increasing the degree of random nodes so that it is.\n",
      "  warnings.warn(\n"
     ]
    }
   ],
   "source": [
    "n = 1000\n",
    "m = 3\n",
    "k = {i: random.randint(10, 30) for i in range(n)}\n",
    "H = hg.uniform_hypergraph_configuration_model(k, m)"
   ]
  },
  {
   "cell_type": "code",
   "execution_count": 22,
   "metadata": {},
   "outputs": [],
   "source": [
    "n = 1000\n",
    "m = 10000\n",
    "p = 0.001\n",
    "H = hg.erdos_renyi_hypergraph(n, m, p)"
   ]
  },
  {
   "cell_type": "code",
   "execution_count": 23,
   "metadata": {},
   "outputs": [],
   "source": [
    "n = 1000\n",
    "k1 = {i : random.randint(10, 30) for i in range(n)}\n",
    "k2 = {i : sorted(k1.values())[i] for i in range(n)}\n",
    "H = hg.chung_lu_hypergraph(k1, k2)"
   ]
  },
  {
   "cell_type": "code",
   "execution_count": 26,
   "metadata": {},
   "outputs": [
    {
     "name": "stderr",
     "output_type": "stream",
     "text": [
      "c:\\users\\nicho\\documents\\github\\hypergraph\\hypergraph\\generators\\nonuniform.py:183: UserWarning: The sum of the degree sequence does not match the entries in the omega matrix\n",
      "  warnings.warn(\n"
     ]
    }
   ],
   "source": [
    "n = 1000\n",
    "k1 = {i : random.randint(1, 100) for i in range(n)}\n",
    "k2 = {i : sorted(k1.values())[i] for i in range(n)}\n",
    "g1 = {i : random.choice([0, 1]) for i in range(n)}\n",
    "g2 = {i : random.choice([0, 1]) for i in range(n)}\n",
    "omega = np.array([[100, 10], [10, 100]])\n",
    "H = hg.dcsbm_hypergraph(k1, k2, g1, g2, omega)"
   ]
  },
  {
   "cell_type": "code",
   "execution_count": null,
   "metadata": {},
   "outputs": [],
   "source": []
  }
 ],
 "metadata": {
  "interpreter": {
   "hash": "e8c90be8a507c947d600755d98ec41f3a8064ae1d46b0505dd1a3ad2a7800759"
  },
  "kernelspec": {
   "display_name": "Python 3.9.7 64-bit (conda)",
   "name": "python3"
  },
  "language_info": {
   "codemirror_mode": {
    "name": "ipython",
    "version": 3
   },
   "file_extension": ".py",
   "mimetype": "text/x-python",
   "name": "python",
   "nbconvert_exporter": "python",
   "pygments_lexer": "ipython3",
   "version": "3.9.7"
  },
  "orig_nbformat": 4
 },
 "nbformat": 4,
 "nbformat_minor": 2
}
